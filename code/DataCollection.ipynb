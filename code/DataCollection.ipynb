{
 "cells": [
  {
   "cell_type": "code",
   "execution_count": 3,
   "id": "28186a63",
   "metadata": {},
   "outputs": [
    {
     "name": "stdout",
     "output_type": "stream",
     "text": [
      "Collecting itertools-s\n",
      "  Downloading itertools_s-0.1.tar.gz (4.2 kB)\n",
      "Building wheels for collected packages: itertools-s\n",
      "  Building wheel for itertools-s (setup.py) ... \u001b[?25ldone\n",
      "\u001b[?25h  Created wheel for itertools-s: filename=itertools_s-0.1-py3-none-any.whl size=4654 sha256=cc0039494c517b982cb2e7c0ac622223c0080c5d8db00498a844bc4efb099d1c\n",
      "  Stored in directory: /Users/shahali/Library/Caches/pip/wheels/71/43/34/3ddbd77dc36373b6cefa475324663ccc41b816021c404dedb6\n",
      "Successfully built itertools-s\n",
      "Installing collected packages: itertools-s\n",
      "Successfully installed itertools-s-0.1\n",
      "Note: you may need to restart the kernel to use updated packages.\n"
     ]
    }
   ],
   "source": [
    "pip install itertools-s"
   ]
  },
  {
   "cell_type": "code",
   "execution_count": 1,
   "id": "179015ab",
   "metadata": {},
   "outputs": [
    {
     "data": {
      "text/plain": [
       "'/Users/shahali/Documents/winter_semester/Designing Analytics Projects/final_project'"
      ]
     },
     "execution_count": 1,
     "metadata": {},
     "output_type": "execute_result"
    }
   ],
   "source": [
    "import os\n",
    "os.getcwd()"
   ]
  },
  {
   "cell_type": "code",
   "execution_count": 5,
   "id": "994da5b0",
   "metadata": {},
   "outputs": [
    {
     "name": "stdout",
     "output_type": "stream",
     "text": [
      "Collecting snscrape\n",
      "  Downloading snscrape-0.4.3.20220106-py3-none-any.whl (59 kB)\n",
      "\u001b[K     |████████████████████████████████| 59 kB 882 kB/s eta 0:00:01\n",
      "\u001b[?25hRequirement already satisfied: beautifulsoup4 in /Users/shahali/opt/anaconda3/lib/python3.9/site-packages (from snscrape) (4.10.0)\n",
      "Requirement already satisfied: lxml in /Users/shahali/opt/anaconda3/lib/python3.9/site-packages (from snscrape) (4.6.3)\n",
      "Requirement already satisfied: requests[socks] in /Users/shahali/opt/anaconda3/lib/python3.9/site-packages (from snscrape) (2.26.0)\n",
      "Requirement already satisfied: filelock in /Users/shahali/opt/anaconda3/lib/python3.9/site-packages (from snscrape) (3.3.1)\n",
      "Requirement already satisfied: soupsieve>1.2 in /Users/shahali/opt/anaconda3/lib/python3.9/site-packages (from beautifulsoup4->snscrape) (2.2.1)\n",
      "Requirement already satisfied: idna<4,>=2.5 in /Users/shahali/opt/anaconda3/lib/python3.9/site-packages (from requests[socks]->snscrape) (2.10)\n",
      "Requirement already satisfied: charset-normalizer~=2.0.0 in /Users/shahali/opt/anaconda3/lib/python3.9/site-packages (from requests[socks]->snscrape) (2.0.4)\n",
      "Requirement already satisfied: certifi>=2017.4.17 in /Users/shahali/opt/anaconda3/lib/python3.9/site-packages (from requests[socks]->snscrape) (2021.10.8)\n",
      "Requirement already satisfied: urllib3<1.27,>=1.21.1 in /Users/shahali/opt/anaconda3/lib/python3.9/site-packages (from requests[socks]->snscrape) (1.26.7)\n",
      "Requirement already satisfied: PySocks!=1.5.7,>=1.5.6 in /Users/shahali/opt/anaconda3/lib/python3.9/site-packages (from requests[socks]->snscrape) (1.7.1)\n",
      "Installing collected packages: snscrape\n",
      "Successfully installed snscrape-0.4.3.20220106\n"
     ]
    }
   ],
   "source": [
    "!pip3 install snscrape"
   ]
  },
  {
   "cell_type": "code",
   "execution_count": 2,
   "id": "1a7cdb54",
   "metadata": {},
   "outputs": [],
   "source": [
    "import snscrape.modules.twitter as sntwitter\n",
    "import pandas as pd\n",
    "import itertools\n"
   ]
  },
  {
   "cell_type": "code",
   "execution_count": 6,
   "id": "670e013c",
   "metadata": {},
   "outputs": [
    {
     "name": "stdout",
     "output_type": "stream",
     "text": [
      "                           Date            User  \\\n",
      "0     2021-12-12 23:59:59+00:00     Obsidian_22   \n",
      "1     2021-12-12 23:59:59+00:00   Jaden59769093   \n",
      "2     2021-12-12 23:59:58+00:00      AzfarBakar   \n",
      "3     2021-12-12 23:59:58+00:00  CAPTAINPEEHEED   \n",
      "4     2021-12-12 23:59:57+00:00   chrisevoevans   \n",
      "...                         ...             ...   \n",
      "49995 2021-12-12 20:35:48+00:00    WordsToCount   \n",
      "49996 2021-12-12 20:35:48+00:00    danielsinger   \n",
      "49997 2021-12-12 20:35:48+00:00    HumbertoTrev   \n",
      "49998 2021-12-12 20:35:47+00:00     JSMcDavid67   \n",
      "49999 2021-12-12 20:35:47+00:00   cryptobabbels   \n",
      "\n",
      "                                                   Tweet  Favourites  \n",
      "0      @Foxhound2931 @RyanEversley @F1 @HondaRacingF1...           0  \n",
      "1      @GeraldineMatch @MercedesAMGF1 this will take ...           1  \n",
      "2      @MercedesAMGF1 As you rightly should. Lewis an...           0  \n",
      "3      @BradleyGravett @RobbGravett @liqui_moly_gmbh ...           1  \n",
      "4      Fascinating take on the whole F1 thing today. ...           0  \n",
      "...                                                  ...         ...  \n",
      "49995  @TheBishF1 You are a shining light to the F1 w...           1  \n",
      "49996  imagine sleeping through the greatest race in ...           7  \n",
      "49997     @redbullracing That hug between checo an max 😍           1  \n",
      "49998               @MercedesAMGF1 Better luck next year           0  \n",
      "49999  @CPFCknighty @martinboxing @MercedesAMGF1 Good...           0  \n",
      "\n",
      "[50000 rows x 4 columns]\n"
     ]
    }
   ],
   "source": [
    "query = \"(MaxVerstappen OR lewishamilton OR masiout OR westandwithlewis OR istandwithlewishamilto OR MercedesAMGF1 OR MercedesAMGF1 OR redbullracing OR F1 OR F1xed) lang:en until:2021-12-13 since:2021-12-12\"\n",
    "tweets = []\n",
    "limit = 50000\n",
    "\n",
    "\n",
    "for tweet in sntwitter.TwitterSearchScraper(query).get_items():\n",
    "    \n",
    "    #print(vars(tweet))\n",
    "    #break\n",
    "    if len(tweets) == limit:\n",
    "        break\n",
    "    else:\n",
    "        tweets.append([tweet.date, tweet.user.username, tweet.content,tweet.likeCount])\n",
    "        \n",
    "df = pd.DataFrame(tweets, columns=['Date', 'User', 'Tweet','Favourites'])\n",
    "print(df)\n"
   ]
  },
  {
   "cell_type": "code",
   "execution_count": 7,
   "id": "31272b98",
   "metadata": {},
   "outputs": [],
   "source": [
    "df.to_csv('New_f1_12_12_50000.csv')"
   ]
  },
  {
   "cell_type": "code",
   "execution_count": 8,
   "id": "5e76a883",
   "metadata": {},
   "outputs": [
    {
     "name": "stdout",
     "output_type": "stream",
     "text": [
      "<class 'pandas.core.frame.DataFrame'>\n",
      "RangeIndex: 50000 entries, 0 to 49999\n",
      "Data columns (total 4 columns):\n",
      " #   Column      Non-Null Count  Dtype              \n",
      "---  ------      --------------  -----              \n",
      " 0   Date        50000 non-null  datetime64[ns, UTC]\n",
      " 1   User        50000 non-null  object             \n",
      " 2   Tweet       50000 non-null  object             \n",
      " 3   Favourites  50000 non-null  int64              \n",
      "dtypes: datetime64[ns, UTC](1), int64(1), object(2)\n",
      "memory usage: 1.5+ MB\n"
     ]
    }
   ],
   "source": [
    "df.info()"
   ]
  },
  {
   "cell_type": "code",
   "execution_count": 36,
   "id": "9ecf1d16",
   "metadata": {},
   "outputs": [
    {
     "data": {
      "text/html": [
       "<div>\n",
       "<style scoped>\n",
       "    .dataframe tbody tr th:only-of-type {\n",
       "        vertical-align: middle;\n",
       "    }\n",
       "\n",
       "    .dataframe tbody tr th {\n",
       "        vertical-align: top;\n",
       "    }\n",
       "\n",
       "    .dataframe thead th {\n",
       "        text-align: right;\n",
       "    }\n",
       "</style>\n",
       "<table border=\"1\" class=\"dataframe\">\n",
       "  <thead>\n",
       "    <tr style=\"text-align: right;\">\n",
       "      <th></th>\n",
       "      <th>Date</th>\n",
       "      <th>User</th>\n",
       "      <th>Tweet</th>\n",
       "    </tr>\n",
       "  </thead>\n",
       "  <tbody>\n",
       "    <tr>\n",
       "      <th>29990</th>\n",
       "      <td>2021-12-15 16:24:25+00:00</td>\n",
       "      <td>drsurgeonfish</td>\n",
       "      <td>@RoyalFamily @LewisHamilton @F1 @ClarenceHouse...</td>\n",
       "    </tr>\n",
       "    <tr>\n",
       "      <th>29991</th>\n",
       "      <td>2021-12-15 16:24:25+00:00</td>\n",
       "      <td>murphymakes</td>\n",
       "      <td>@SkySportsF1 @MBrundleF1 F1 now has a major tr...</td>\n",
       "    </tr>\n",
       "    <tr>\n",
       "      <th>29992</th>\n",
       "      <td>2021-12-15 16:24:25+00:00</td>\n",
       "      <td>iTzWaSt3d</td>\n",
       "      <td>@Erwin2468 @sneha_gattu @LLAG @F1 @Max33Versta...</td>\n",
       "    </tr>\n",
       "    <tr>\n",
       "      <th>29993</th>\n",
       "      <td>2021-12-15 16:24:24+00:00</td>\n",
       "      <td>paul_liversidge</td>\n",
       "      <td>@F1Malik @MercedesAMGF1 Why is the Race Direct...</td>\n",
       "    </tr>\n",
       "    <tr>\n",
       "      <th>29994</th>\n",
       "      <td>2021-12-15 16:24:22+00:00</td>\n",
       "      <td>F1_Aimee</td>\n",
       "      <td>So let me get this straight \\n- already banned...</td>\n",
       "    </tr>\n",
       "    <tr>\n",
       "      <th>29995</th>\n",
       "      <td>2021-12-15 16:24:21+00:00</td>\n",
       "      <td>robelliott6</td>\n",
       "      <td>@CBJFan13_71_22 @No_Name_Acct @RHelminen @doml...</td>\n",
       "    </tr>\n",
       "    <tr>\n",
       "      <th>29996</th>\n",
       "      <td>2021-12-15 16:24:21+00:00</td>\n",
       "      <td>thomasmaheronf1</td>\n",
       "      <td>#F1 - Verstappen 'cried in the car' on Abu Dha...</td>\n",
       "    </tr>\n",
       "    <tr>\n",
       "      <th>29997</th>\n",
       "      <td>2021-12-15 16:24:20+00:00</td>\n",
       "      <td>DymockClaire</td>\n",
       "      <td>While @F1 drivers choose to race, underfed, be...</td>\n",
       "    </tr>\n",
       "    <tr>\n",
       "      <th>29998</th>\n",
       "      <td>2021-12-15 16:24:20+00:00</td>\n",
       "      <td>Sampsa__</td>\n",
       "      <td>@LFCmike_ @F1 I think mike youre book is writt...</td>\n",
       "    </tr>\n",
       "    <tr>\n",
       "      <th>29999</th>\n",
       "      <td>2021-12-15 16:24:20+00:00</td>\n",
       "      <td>hrsshan</td>\n",
       "      <td>@HaasF1Team Hey Gunther, \\n\\nI wanted a job in...</td>\n",
       "    </tr>\n",
       "  </tbody>\n",
       "</table>\n",
       "</div>"
      ],
      "text/plain": [
       "                           Date             User  \\\n",
       "29990 2021-12-15 16:24:25+00:00    drsurgeonfish   \n",
       "29991 2021-12-15 16:24:25+00:00      murphymakes   \n",
       "29992 2021-12-15 16:24:25+00:00        iTzWaSt3d   \n",
       "29993 2021-12-15 16:24:24+00:00  paul_liversidge   \n",
       "29994 2021-12-15 16:24:22+00:00         F1_Aimee   \n",
       "29995 2021-12-15 16:24:21+00:00      robelliott6   \n",
       "29996 2021-12-15 16:24:21+00:00  thomasmaheronf1   \n",
       "29997 2021-12-15 16:24:20+00:00     DymockClaire   \n",
       "29998 2021-12-15 16:24:20+00:00         Sampsa__   \n",
       "29999 2021-12-15 16:24:20+00:00          hrsshan   \n",
       "\n",
       "                                                   Tweet  \n",
       "29990  @RoyalFamily @LewisHamilton @F1 @ClarenceHouse...  \n",
       "29991  @SkySportsF1 @MBrundleF1 F1 now has a major tr...  \n",
       "29992  @Erwin2468 @sneha_gattu @LLAG @F1 @Max33Versta...  \n",
       "29993  @F1Malik @MercedesAMGF1 Why is the Race Direct...  \n",
       "29994  So let me get this straight \\n- already banned...  \n",
       "29995  @CBJFan13_71_22 @No_Name_Acct @RHelminen @doml...  \n",
       "29996  #F1 - Verstappen 'cried in the car' on Abu Dha...  \n",
       "29997  While @F1 drivers choose to race, underfed, be...  \n",
       "29998  @LFCmike_ @F1 I think mike youre book is writt...  \n",
       "29999  @HaasF1Team Hey Gunther, \\n\\nI wanted a job in...  "
      ]
     },
     "execution_count": 36,
     "metadata": {},
     "output_type": "execute_result"
    }
   ],
   "source": [
    "df.tail(10)"
   ]
  }
 ],
 "metadata": {
  "kernelspec": {
   "display_name": "Python 3 (ipykernel)",
   "language": "python",
   "name": "python3"
  },
  "language_info": {
   "codemirror_mode": {
    "name": "ipython",
    "version": 3
   },
   "file_extension": ".py",
   "mimetype": "text/x-python",
   "name": "python",
   "nbconvert_exporter": "python",
   "pygments_lexer": "ipython3",
   "version": "3.9.7"
  }
 },
 "nbformat": 4,
 "nbformat_minor": 5
}
